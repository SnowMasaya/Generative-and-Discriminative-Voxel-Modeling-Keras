{
 "cells": [
  {
   "cell_type": "markdown",
   "metadata": {
    "collapsed": true
   },
   "source": [
    "# 3d search using Annoy\n",
    "\n",
    "Annoy \n",
    "- https://github.com/spotify/annoy"
   ]
  },
  {
   "cell_type": "code",
   "execution_count": 1,
   "metadata": {},
   "outputs": [
    {
     "name": "stderr",
     "output_type": "stream",
     "text": [
      "Using TensorFlow backend.\n",
      "/Users/masayaohgushi/sensor_cpu/lib/python3.6/importlib/_bootstrap.py:205: RuntimeWarning: numpy.dtype size changed, may indicate binary incompatibility. Expected 96, got 88\n",
      "  return f(*args, **kwds)\n"
     ]
    }
   ],
   "source": [
    "from mpl_toolkits.mplot3d import axes3d\n",
    "import matplotlib.pyplot as plt\n",
    "import pickle\n",
    "import numpy as np\n",
    "import sys\n",
    "import os\n",
    "sys.path.append(os.pardir)\n",
    "from src.search.search import Search\n",
    "%matplotlib inline \n",
    "import plotly.plotly as py\n",
    "import plotly.graph_objs as go\n",
    "import plotly\n",
    "plotly.tools.set_credentials_file(username='****.****', api_key='****')"
   ]
  },
  {
   "cell_type": "code",
   "execution_count": 2,
   "metadata": {
    "collapsed": true
   },
   "outputs": [],
   "source": [
    "class_id_to_name_modelnet40 = {\n",
    "      1: \"airplane\",\n",
    "      2: \"bookshelf\",\n",
    "      3: \"chair\",\n",
    "      4: \"desk\",\n",
    "      5: \"glass_box\",\n",
    "      6: \"laptop\",\n",
    "      7: \"person\",\n",
    "      8: \"range_hood\",\n",
    "      9: \"stool\",\n",
    "      10: \"tv_stand\",\n",
    "      11: \"bathtub\",\n",
    "      12: \"bottle\",\n",
    "      13: \"cone\",\n",
    "      14: \"door\",\n",
    "      15: \"guitar\",\n",
    "      16: \"mantel\",\n",
    "      17: \"piano\",\n",
    "      18: \"sink\",\n",
    "      19: \"table\",\n",
    "      20: \"vase\",\n",
    "      21: \"bed\",\n",
    "      22: \"bowl\",\n",
    "      23: \"cup\",\n",
    "      24: \"dresser\",\n",
    "      25: \"keyboard\",\n",
    "      26: \"monitor\",\n",
    "      27: \"plant\",\n",
    "      28: \"sofa\",\n",
    "      29: \"tent\",\n",
    "      30: \"wardrobe\",\n",
    "      31: \"bench\",\n",
    "      32: \"car\",\n",
    "      33: \"curtain\",\n",
    "      34: \"flower_pot\",\n",
    "      35: \"lamp\",\n",
    "      36: \"night_stand\",\n",
    "      37: \"radio\",\n",
    "      38: \"stairs\",\n",
    "      39: \"toilet\",\n",
    "      40: \"xbox\",\n",
    "}"
   ]
  },
  {
   "cell_type": "markdown",
   "metadata": {
    "collapsed": true
   },
   "source": [
    "# Load data and label"
   ]
  },
  {
   "cell_type": "code",
   "execution_count": 3,
   "metadata": {
    "collapsed": true
   },
   "outputs": [],
   "source": [
    "with open(\"../data/processed/features_test.pkl\", \"rb\") as f:    \n",
    "    feature_data = pickle.load(f)\n",
    "\n",
    "with open(\"../data/processed/labels_test.pkl\", \"rb\") as f:    \n",
    "    label = pickle.load(f)    "
   ]
  },
  {
   "cell_type": "code",
   "execution_count": 4,
   "metadata": {
    "collapsed": true
   },
   "outputs": [],
   "source": [
    "label_name_list = []\n",
    "for z in label:\n",
    "    label_name_list.append(class_id_to_name_modelnet40[z])"
   ]
  },
  {
   "cell_type": "markdown",
   "metadata": {},
   "source": [
    "# 3D visualize method"
   ]
  },
  {
   "cell_type": "code",
   "execution_count": 5,
   "metadata": {
    "collapsed": true
   },
   "outputs": [],
   "source": [
    "def voxel_scatter(np_vox):\n",
    "   # initialize empty array\n",
    "    vox_scat = np.zeros([0, 3], dtype=np.uint32)\n",
    "\n",
    "    # itterate through x-dimensions\n",
    "    for x in range(0, np_vox.shape[1]):\n",
    "        # itterate through y-dimension\n",
    "        for y in range(0, np_vox.shape[2]):\n",
    "            # itterate through z-dimension\n",
    "            for z in range(0, np_vox.shape[3]):\n",
    "                # if voxel is dense add to scatter array\n",
    "                if np_vox[0, x, y, z] == 1.0:\n",
    "                    arr_tmp = np.zeros([1, 3], dtype=np.uint32)\n",
    "                    arr_tmp[0, :] = (x, y, z)\n",
    "                    vox_scat = np.concatenate((vox_scat, arr_tmp))\n",
    "    return vox_scat\n",
    "\n",
    "def visualize_data(visualize_data):\n",
    "    fig2 = plt.figure(2, figsize=(8, 10))\n",
    "    ax1 = fig2.add_subplot(1,1,1, projection='3d')\n",
    "    ax1.scatter(visualize_data[:,0], visualize_data[:,1], visualize_data[:,2])\n",
    "    plt.draw()\n",
    "    \n"
   ]
  },
  {
   "cell_type": "markdown",
   "metadata": {},
   "source": [
    "## Get the unique label index"
   ]
  },
  {
   "cell_type": "code",
   "execution_count": 6,
   "metadata": {},
   "outputs": [
    {
     "name": "stdout",
     "output_type": "stream",
     "text": [
      "bathtub\n",
      "bed\n",
      "bench\n",
      "bookshelf\n",
      "bottle\n",
      "bowl\n",
      "car\n",
      "chair\n",
      "cone\n",
      "cup\n",
      "curtain\n",
      "desk\n",
      "door\n",
      "dresser\n",
      "flower_pot\n",
      "glass_box\n",
      "guitar\n",
      "keyboard\n",
      "lamp\n",
      "laptop\n",
      "mantel\n",
      "monitor\n",
      "night_stand\n",
      "person\n",
      "piano\n",
      "plant\n",
      "radio\n",
      "range_hood\n",
      "sink\n",
      "sofa\n",
      "stairs\n",
      "stool\n",
      "tent\n",
      "toilet\n",
      "tv_stand\n",
      "vase\n",
      "wardrobe\n",
      "xbox\n"
     ]
    }
   ],
   "source": [
    "u, indices = np.unique(label_name_list, return_index=True)\n",
    "\n",
    "for index in indices:\n",
    "    print(label_name_list[index])"
   ]
  },
  {
   "cell_type": "markdown",
   "metadata": {},
   "source": [
    "# Search\n",
    "\n",
    "- Prepare\n",
    " - prepare feature extract model\n",
    " - prepare annoy search model\n",
    "\n",
    "- Feature extract\n",
    "- Search"
   ]
  },
  {
   "cell_type": "code",
   "execution_count": 7,
   "metadata": {
    "collapsed": true
   },
   "outputs": [],
   "source": [
    "search_instance = Search(\n",
    "    featture=512,\n",
    "    model_name=\"../models/model_net_epoch_19_acc_0.96.hdf5\",\n",
    "    regist_annoy=\"../models/feature_model_net_epoch_19_acc_0.96_all_test_data.ann\",\n",
    ")"
   ]
  },
  {
   "cell_type": "code",
   "execution_count": 8,
   "metadata": {},
   "outputs": [
    {
     "data": {
      "text/plain": [
       "'toilet'"
      ]
     },
     "execution_count": 8,
     "metadata": {},
     "output_type": "execute_result"
    }
   ],
   "source": [
    "label_index = -5\n",
    "\n",
    "search_index = indices[label_index] + 1000\n",
    "label_name_list[indices[label_index]]"
   ]
  },
  {
   "cell_type": "markdown",
   "metadata": {},
   "source": [
    "## Extract feature"
   ]
  },
  {
   "cell_type": "code",
   "execution_count": 9,
   "metadata": {},
   "outputs": [
    {
     "data": {
      "text/plain": [
       "(28404, 1, 32, 32, 32)"
      ]
     },
     "execution_count": 9,
     "metadata": {},
     "output_type": "execute_result"
    }
   ],
   "source": [
    "feature_data.shape"
   ]
  },
  {
   "cell_type": "code",
   "execution_count": 10,
   "metadata": {},
   "outputs": [
    {
     "name": "stdout",
     "output_type": "stream",
     "text": [
      "extract index:  0\n"
     ]
    }
   ],
   "source": [
    "extract_features = search_instance.extract_feature(np.reshape(feature_data[search_index], \n",
    "                                                              (1, 1, \n",
    "                                                              feature_data[search_index].shape[1],\n",
    "                                                              feature_data[search_index].shape[2],\n",
    "                                                              feature_data[search_index].shape[3],)))"
   ]
  },
  {
   "cell_type": "code",
   "execution_count": 11,
   "metadata": {
    "collapsed": true
   },
   "outputs": [],
   "source": [
    "search_result = search_instance.search(extract_features[0])"
   ]
  },
  {
   "cell_type": "code",
   "execution_count": 12,
   "metadata": {},
   "outputs": [
    {
     "data": {
      "text/plain": [
       "[1240, 1381, 515, 1225, 983, 1354, 1341, 1169, 1292, 292]"
      ]
     },
     "execution_count": 12,
     "metadata": {},
     "output_type": "execute_result"
    }
   ],
   "source": [
    "search_result"
   ]
  },
  {
   "cell_type": "markdown",
   "metadata": {},
   "source": [
    "# Visualize\n",
    "\n",
    "visualize by plotly.\n",
    "\n",
    "- It is better visualize than matplotlib\n",
    "- Interactive action\n",
    "- If you use it, you have to regist."
   ]
  },
  {
   "cell_type": "markdown",
   "metadata": {},
   "source": [
    "## Search label list"
   ]
  },
  {
   "cell_type": "code",
   "execution_count": 13,
   "metadata": {},
   "outputs": [
    {
     "name": "stdout",
     "output_type": "stream",
     "text": [
      "toilet\n",
      "toilet\n",
      "toilet\n",
      "toilet\n",
      "toilet\n",
      "toilet\n",
      "toilet\n",
      "toilet\n",
      "toilet\n",
      "toilet\n"
     ]
    }
   ],
   "source": [
    "convert_data_list = []\n",
    "\n",
    "for index in search_result:\n",
    "    print(label_name_list[index])\n",
    "    convert_data_list.append(voxel_scatter(feature_data[index]))"
   ]
  },
  {
   "cell_type": "markdown",
   "metadata": {},
   "source": [
    "## Search object"
   ]
  },
  {
   "cell_type": "code",
   "execution_count": 14,
   "metadata": {
    "scrolled": false
   },
   "outputs": [
    {
     "data": {
      "text/html": [
       "<iframe id=\"igraph\" scrolling=\"no\" style=\"border:none;\" seamless=\"seamless\" src=\"https://plot.ly/~masaya.ohgushi/122.embed\" height=\"525px\" width=\"100%\"></iframe>"
      ],
      "text/plain": [
       "<plotly.tools.PlotlyDisplay object>"
      ]
     },
     "execution_count": 14,
     "metadata": {},
     "output_type": "execute_result"
    }
   ],
   "source": [
    "convert_data = voxel_scatter(feature_data[search_index])\n",
    "\n",
    "trace = go.Mesh3d(x=convert_data[:,0], y=convert_data[:,1], z=convert_data[:,2], color='#FFB6C1',opacity=0.50)\n",
    "py.iplot([trace])"
   ]
  },
  {
   "cell_type": "markdown",
   "metadata": {},
   "source": [
    "## Search result"
   ]
  },
  {
   "cell_type": "code",
   "execution_count": 15,
   "metadata": {},
   "outputs": [
    {
     "data": {
      "text/html": [
       "<iframe id=\"igraph\" scrolling=\"no\" style=\"border:none;\" seamless=\"seamless\" src=\"https://plot.ly/~masaya.ohgushi/124.embed\" height=\"525px\" width=\"100%\"></iframe>"
      ],
      "text/plain": [
       "<plotly.tools.PlotlyDisplay object>"
      ]
     },
     "execution_count": 15,
     "metadata": {},
     "output_type": "execute_result"
    }
   ],
   "source": [
    "convert_data = convert_data_list[0]\n",
    "\n",
    "trace = go.Mesh3d(x=convert_data[:,0], y=convert_data[:,1], z=convert_data[:,2], color='#FFB6C1',opacity=1.00)\n",
    "py.iplot([trace])\n",
    "\n"
   ]
  },
  {
   "cell_type": "code",
   "execution_count": 16,
   "metadata": {},
   "outputs": [
    {
     "data": {
      "text/html": [
       "<iframe id=\"igraph\" scrolling=\"no\" style=\"border:none;\" seamless=\"seamless\" src=\"https://plot.ly/~masaya.ohgushi/126.embed\" height=\"525px\" width=\"100%\"></iframe>"
      ],
      "text/plain": [
       "<plotly.tools.PlotlyDisplay object>"
      ]
     },
     "execution_count": 16,
     "metadata": {},
     "output_type": "execute_result"
    }
   ],
   "source": [
    "convert_data = convert_data_list[-1]\n",
    "\n",
    "trace = go.Mesh3d(x=convert_data[:,0], y=convert_data[:,1], z=convert_data[:,2], color='#FFB6C1',opacity=1.00)\n",
    "py.iplot([trace])"
   ]
  },
  {
   "cell_type": "code",
   "execution_count": null,
   "metadata": {
    "collapsed": true
   },
   "outputs": [],
   "source": []
  }
 ],
 "metadata": {
  "kernelspec": {
   "display_name": "Python 3",
   "language": "python",
   "name": "python3"
  },
  "language_info": {
   "codemirror_mode": {
    "name": "ipython",
    "version": 3
   },
   "file_extension": ".py",
   "mimetype": "text/x-python",
   "name": "python",
   "nbconvert_exporter": "python",
   "pygments_lexer": "ipython3",
   "version": "3.6.0"
  },
  "toc": {
   "base_numbering": 1,
   "nav_menu": {},
   "number_sections": true,
   "sideBar": true,
   "skip_h1_title": false,
   "title_cell": "Table of Contents",
   "title_sidebar": "Contents",
   "toc_cell": false,
   "toc_position": {},
   "toc_section_display": true,
   "toc_window_display": false
  }
 },
 "nbformat": 4,
 "nbformat_minor": 2
}
